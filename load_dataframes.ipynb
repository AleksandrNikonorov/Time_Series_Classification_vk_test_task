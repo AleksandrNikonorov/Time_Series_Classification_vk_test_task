{
 "cells": [
  {
   "cell_type": "code",
   "execution_count": null,
   "metadata": {
    "vscode": {
     "languageId": "plaintext"
    }
   },
   "outputs": [],
   "source": [
    "url = 'https://drive.google.com/file/d/1l6aofWUSNDZoT1hl82hiGuu_SNOz5tHi/view?usp=sharing'\n",
    "output = 'intervals_rolling_dataframe0.csv'\n",
    "gdown.download(url, output, quiet=False)\n",
    "\n",
    "url = 'https://drive.google.com/file/d/1q4bUkLPa8TLH128Umu6I2FIGB3ROWV2y/view?usp=sharing'\n",
    "output = 'test_data.csv'\n",
    "gdown.download(url, output, quiet=False)"
   ]
  }
 ],
 "metadata": {
  "language_info": {
   "name": "python"
  }
 },
 "nbformat": 4,
 "nbformat_minor": 2
}
